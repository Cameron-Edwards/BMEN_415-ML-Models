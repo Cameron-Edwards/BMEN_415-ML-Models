{
 "cells": [
  {
   "cell_type": "code",
   "execution_count": 5,
   "id": "91dcfc26",
   "metadata": {},
   "outputs": [
    {
     "name": "stdout",
     "output_type": "stream",
     "text": [
      "<class 'pandas.core.frame.DataFrame'>\n",
      "RangeIndex: 569 entries, 0 to 568\n",
      "Columns: 32 entries, id to fractal_dimension_worst\n",
      "dtypes: float64(30), int64(1), object(1)\n",
      "memory usage: 142.4+ KB\n"
     ]
    }
   ],
   "source": [
    "import numpy as np\n",
    "import pandas as pd\n",
    "import matplotlib.pyplot as plt\n",
    "import seaborn as sns\n",
    "from sklearn.model_selection import train_test_split\n",
    "import os\n",
    "from sklearn.metrics import r2_score\n",
    "from sklearn.svm import SVC\n",
    "from sklearn.pipeline import make_pipeline\n",
    "from sklearn.preprocessing import StandardScaler\n",
    "\n",
    "data = pd.read_csv(\"C:/Users/matiyariazz/Desktop/Wisconsin_Breast_Cancer_Data_Classification_CSV.csv\")\n",
    "data.info(verbose=False)\n",
    "\n"
   ]
  },
  {
   "cell_type": "code",
   "execution_count": 6,
   "id": "de61d9b2",
   "metadata": {},
   "outputs": [
    {
     "data": {
      "image/png": "[encoded data removed]",
      "text/plain": [
       "<Figure size 360x360 with 1 Axes>"
      ]
     },
     "metadata": {
      "needs_background": "light"
     },
     "output_type": "display_data"
    }
   ],
   "source": [
    "sns.catplot(x=\"diagnosis\", kind=\"count\", palette=\"Set1\", data=data)\n",
    "plt.show()\n"
   ]
  },
  {
   "cell_type": "code",
   "execution_count": 7,
   "id": "e917ff9d",
   "metadata": {},
   "outputs": [],
   "source": [
    "\n",
    "data.diagnosis = [1 if each == \"M\" else 0 for each in data.diagnosis]\n",
    "\n",
    "X = data.drop([\"diagnosis\"], axis=1)\n",
    "Y = data.diagnosis.values\n",
    "\n",
    "x_train, x_test, y_train, y_test = train_test_split(X, Y, test_size=0.2, random_state=41)\n"
   ]
  },
  {
   "cell_type": "code",
   "execution_count": 8,
   "id": "243f62c0",
   "metadata": {},
   "outputs": [
    {
     "data": {
      "text/plain": [
       "Pipeline(steps=[('standardscaler', StandardScaler()),\n",
       "                ('svc', SVC(gamma='auto'))])"
      ]
     },
     "execution_count": 8,
     "metadata": {},
     "output_type": "execute_result"
    }
   ],
   "source": [
    "clf = make_pipeline(StandardScaler(), SVC(gamma='auto',kernel='rbf'))\n",
    "clf.fit(x_train, y_train)\n",
    "\n",
    "\n"
   ]
  },
  {
   "cell_type": "code",
   "execution_count": 9,
   "id": "17f79b8b",
   "metadata": {},
   "outputs": [
    {
     "name": "stdout",
     "output_type": "stream",
     "text": [
      "Training Accuracy for Multiple Linear Regression Model:  0.9439148656422056\n",
      "Testing Accuracy for Multiple Linear Regression Model:  0.922972972972973\n"
     ]
    }
   ],
   "source": [
    "y_pred_SVM_train = clf.predict(x_train)\n",
    "y_pred_SVM_test = clf.predict(x_test)\n",
    "\n",
    "accuracy_SVM_train = r2_score(y_train, y_pred_SVM_train)\n",
    "print(\"Training Accuracy for Multiple Linear Regression Model: \", accuracy_SVM_train)\n",
    "\n",
    "accuracy_SVM_test = r2_score(y_test, y_pred_SVM_test)\n",
    "print(\"Testing Accuracy for Multiple Linear Regression Model: \", accuracy_SVM_test)\n"
   ]
  },
  {
   "cell_type": "code",
   "execution_count": 11,
   "id": "a31fb952",
   "metadata": {},
   "outputs": [
    {
     "name": "stdout",
     "output_type": "stream",
     "text": [
      "[[73.  1.]\n",
      " [ 1. 39.]]\n"
     ]
    }
   ],
   "source": [
    "def confusion_matrix(true, pred):\n",
    "    K = len(np.unique(true))  # Number of classes\n",
    "    result = np.zeros((K, K))\n",
    "    for i in range(len(true)):\n",
    "        result[true[i]][pred[i]] += 1\n",
    "    return result\n",
    "con_mtx = confusion_matrix(y_test, y_pred_SVM_test)\n",
    "\n",
    "print(con_mtx)"
   ]
  },
  {
   "cell_type": "code",
   "execution_count": 12,
   "id": "3cb1a8c6",
   "metadata": {},
   "outputs": [
    {
     "data": {
      "image/png": "[encoded data removed]",
      "text/plain": [
       "<Figure size 432x288 with 1 Axes>"
      ]
     },
     "metadata": {
      "needs_background": "light"
     },
     "output_type": "display_data"
    }
   ],
   "source": [
    "con_df = pd.DataFrame(con_mtx, columns=['Malignant', 'Benign'], index=['Malignant_pred', 'Benign_pred'])\n",
    "sns.heatmap(con_df, annot=True, cbar=False)\n",
    "plt.show()"
   ]
  },
  {
   "cell_type": "code",
   "execution_count": null,
   "id": "02045fb6",
   "metadata": {},
   "outputs": [],
   "source": []
  }
 ],
 "metadata": {
  "kernelspec": {
   "display_name": "Python 3 (ipykernel)",
   "language": "python",
   "name": "python3"
  },
  "language_info": {
   "codemirror_mode": {
    "name": "ipython",
    "version": 3
   },
   "file_extension": ".py",
   "mimetype": "text/x-python",
   "name": "python",
   "nbconvert_exporter": "python",
   "pygments_lexer": "ipython3",
   "version": "3.9.7"
  }
 },
 "nbformat": 4,
 "nbformat_minor": 5
}
